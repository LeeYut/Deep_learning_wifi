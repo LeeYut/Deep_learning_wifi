{
 "cells": [
  {
   "cell_type": "code",
   "execution_count": 1,
   "metadata": {
    "collapsed": true
   },
   "outputs": [],
   "source": [
    "import pandas as pd\n",
    "import numpy as np"
   ]
  },
  {
   "cell_type": "code",
   "execution_count": 2,
   "metadata": {
    "collapsed": true
   },
   "outputs": [],
   "source": [
    "df = pd.read_csv(\"wifi_4th_floor.csv\")"
   ]
  },
  {
   "cell_type": "code",
   "execution_count": 3,
   "metadata": {
    "collapsed": true
   },
   "outputs": [],
   "source": [
    "counter = 0\n",
    "for index, row in df.iterrows():\n",
    "    if(row['BBSID'] == \"delimiter\"):\n",
    "        counter += 1"
   ]
  },
  {
   "cell_type": "code",
   "execution_count": 4,
   "metadata": {
    "collapsed": false
   },
   "outputs": [
    {
     "name": "stdout",
     "output_type": "stream",
     "text": [
      "40\n"
     ]
    }
   ],
   "source": [
    "print (counter)"
   ]
  },
  {
   "cell_type": "code",
   "execution_count": 6,
   "metadata": {
    "collapsed": false
   },
   "outputs": [
    {
     "name": "stdout",
     "output_type": "stream",
     "text": [
      "['48:a1:95:e9:0b:cb', 'cc:e1:d5:8f:6e:76', '00:1a:1e:83:c1:61', '00:1a:1e:83:c1:62', '00:1a:1e:83:c1:60', 'cc:e1:d5:8f:6e:71', '00:03:52:e3:7a:ac', '00:03:52:e3:7a:ad', '00:1a:1e:83:c1:63', 'cc:e1:d5:f9:66:00', '00:20:a6:cf:6f:b9', '88:57:ee:f2:6a:48', '10:6f:3f:37:5e:bb', '00:03:52:e3:7a:ab', 'bc:5c:4c:6c:56:2f', '00:03:52:e3:7a:ae', 'b6:12:42:75:b4:02', '98:f1:99:87:05:af', '40:01:7a:97:2e:cf', 'ee:1d:7f:c1:80:92', '88:44:77:83:3a:2c', '48:a1:95:e9:0b:ca', '00:03:52:e3:7a:aa', '30:f7:72:f6:3c:30', '30:f7:72:f6:3c:31', '88:57:ee:f2:6a:4c', '30:f7:72:f6:3c:32', 'a4:12:42:75:b4:02', '10:4b:46:73:b4:5b', 'bc:5c:4c:00:0c:97', '00:1a:1e:8e:ef:e2', '00:1a:1e:8e:ef:e1', '00:1a:1e:8e:ef:e3', '50:0f:80:d9:36:2f', '00:03:52:e3:7a:a5', '00:03:52:a9:5d:a5', '30:f7:72:f6:3c:33', '00:03:52:e3:7a:a1', '00:03:52:e3:7a:a9', '00:03:52:a9:5d:a9', '00:03:52:e3:7a:a8', '00:1a:1e:8e:ef:e0', '28:34:a2:28:5f:ff', '00:1a:1e:92:b2:e0', '30:f7:72:f6:3c:3a', '00:1a:1e:92:b2:e1', '84:af:ec:30:3c:de', '84:af:ec:30:3c:dc', 'a6:12:42:85:b2:00', 'dc:a4:ca:ef:20:6b', '10:6f:3f:3b:bd:22', '02:18:1a:84:ab:ee', '98:f1:99:ad:1a:0e', '38:90:a5:59:af:4f', '16:6f:3f:3b:bd:22', '00:03:52:a9:5d:a1', '88:57:ee:b3:6b:bd', '00:24:a5:c1:60:71', 'dc:a4:ca:ef:20:6a', 'a4:12:42:85:b2:00', 'b0:55:08:4d:91:70', '34:3d:c4:c1:f7:18', '58:93:96:80:67:cd', '58:93:96:40:67:cd', '58:93:96:40:67:cc', '58:93:96:00:67:cd', '58:93:96:c0:67:cc', '00:0d:02:e2:08:9b', '34:3d:c4:c1:f7:1c', '06:0d:02:e2:08:9b', '58:93:96:80:67:cc', '00:1a:1e:92:b2:e2', '58:93:96:c0:67:cd', 'bc:5c:4c:00:0c:96', '84:af:ec:11:c3:1c', '58:93:96:00:67:cc', '9c:2a:70:96:c1:9b', 'd8:f7:10:e4:2d:52', '7c:11:cb:c7:9b:f1', '00:20:a6:fd:47:28', '34:76:c5:18:88:35', '28:34:a2:28:5e:e0', '00:03:52:e3:7a:a3', '00:03:52:e3:7a:a2', '00:03:52:e3:7a:a0', '00:03:52:e3:7a:a4', '30:f7:72:f6:3c:38', '9c:2a:70:96:c1:99', '34:76:c5:84:48:37', '00:1a:1e:92:b3:83', '9c:2a:70:96:c1:9a', '36:76:c5:18:88:35', '9c:2a:70:96:c1:9c', '9c:2a:70:96:c1:98', '34:fc:b9:3c:f0:30', '34:fc:b9:3c:f0:51', '00:1a:1e:92:b3:81', '34:fc:b9:3c:f0:50', '6c:19:8f:e6:37:bf', '00:1a:1e:92:b3:80', '34:fc:b9:3c:f0:31', '24:de:c6:41:6f:78', '24:de:c6:41:6f:7a', '24:de:c6:41:6f:79', '00:90:fe:9b:19:d2', '00:03:52:a9:5d:a0', '00:03:52:a9:5d:a3', '00:03:52:a9:5d:a2', '00:03:52:a9:5d:a4', 'a4:12:42:75:b4:03', '00:1a:1e:92:b2:e3', 'cc:e1:d5:6e:44:15', '00:c8:8b:13:4d:7f', '00:c8:8b:13:4d:7c', '88:57:ee:86:20:7d', 'be:5c:4c:00:0c:96', '00:60:b9:1b:c0:06', '20:4c:9e:eb:24:7d', 'dc:fb:02:2b:2d:92', '00:78:88:5c:8e:40', '00:c8:8b:13:4d:7e', '88:57:ee:b3:6b:bc', '6e:19:8f:e6:37:bf', '6c:19:8f:e6:38:3a', '6e:19:8f:e6:38:3a', '34:fc:b9:3c:f0:70', '74:67:f7:74:9a:82', '6c:19:8f:e6:21:00', '6e:19:8f:e6:21:00', '10:4b:46:73:b4:97', '34:fc:b9:3c:f0:71', '0e:8d:cb:db:ab:5c', '6c:19:8f:e6:22:ce', '6e:19:8f:e6:22:ce', '20:4c:9e:eb:29:6d', '20:4c:9e:eb:24:7f', '00:35:1a:dc:79:ad', '00:35:1a:dc:79:af', '6c:19:8f:e6:22:cc', '58:ac:78:55:f3:df', '20:4c:9e:eb:29:6e', '0e:19:8f:e6:37:bd', '0e:19:8f:e6:22:cc', '18:64:72:6a:77:cb', '00:80:4c:c9:0d:18', '20:4c:9e:eb:24:71', '00:1a:1e:92:b3:82', '20:4c:9e:eb:24:7e', '7e:19:8f:e6:37:bf', '7e:19:8f:e6:38:3a', '1e:19:8f:e6:38:38', '7e:19:8f:e6:21:00', '00:35:1a:dc:79:ae', '98:f1:99:d5:04:c6', '02:18:1a:7b:ef:09', '00:18:0a:84:ab:ee', '0e:19:8f:e6:38:38', '50:0f:80:d9:36:20', '6c:19:8f:e6:37:bd', '7e:19:8f:e6:22:ce', 'f8:4f:57:7c:9e:0b', 'f8:4f:57:7c:9e:0d', '00:20:a6:fd:47:29', '00:1a:1e:8e:ff:41', '00:1a:1e:8e:ff:42', '74:03:bd:79:e5:d2', '00:23:b1:7b:ec:81', '74:03:bd:79:e5:d3', '00:20:a6:fd:47:79', 'b0:c7:45:f3:1b:48', '44:c3:46:4f:32:17', 'cc:e1:d5:f9:66:04', '00:20:a6:fd:47:7a', '48:db:50:2c:77:02', '84:af:ec:30:3c:da', '58:93:96:40:67:c9', '58:93:96:80:67:c9', '00:20:a6:fd:47:95', '58:93:96:00:67:c9', '58:93:96:80:67:c8', 'dc:d9:16:44:3d:90', '58:93:96:00:67:c8', '58:93:96:40:67:c8', '00:20:a6:fd:47:94', '30:f7:72:f6:3c:39']\n",
      "[]\n"
     ]
    }
   ],
   "source": [
    "wifi_BBSID_list = []\n",
    "time=[]\n",
    "counter = 0\n",
    "#obj = {\"wifiAccessPoints\":[]}\n",
    "for index, row in df.iterrows():\n",
    "    if(row['BBSID'] == \"delimiter\"):\n",
    "        counter += 1\n",
    "        #wifi_list.append(obj)\n",
    "        #obj = {\"wifiAccessPoints\":[]}\n",
    "        #time.append((counter, df.loc[index-1, ' Time']))\n",
    "    else:\n",
    "        if(row['BBSID'] not in wifi_BBSID_list):\n",
    "            wifi_BBSID_list.append(row['BBSID'])\n",
    "print (wifi_BBSID_list)\n",
    "print (time)"
   ]
  },
  {
   "cell_type": "code",
   "execution_count": 7,
   "metadata": {
    "collapsed": false
   },
   "outputs": [
    {
     "data": {
      "text/plain": [
       "185"
      ]
     },
     "execution_count": 7,
     "metadata": {},
     "output_type": "execute_result"
    }
   ],
   "source": [
    "len(wifi_BBSID_list)"
   ]
  },
  {
   "cell_type": "code",
   "execution_count": null,
   "metadata": {
    "collapsed": true
   },
   "outputs": [],
   "source": [
    "reArranged = []\n",
    "time=[]\n",
    "counter = 0\n",
    "#obj = {\"wifiAccessPoints\":[]}\n",
    "for index, row in df.iterrows():\n",
    "    wifi = [100]*185\n",
    "    if(row['BBSID'] == \"delimiter\"):\n",
    "        counter += 1\n",
    "        #wifi_list.append(obj)\n",
    "        #obj = {\"wifiAccessPoints\":[]}\n",
    "        #time.append((counter, df.loc[index-1, ' Time']))\n",
    "    else:\n",
    "        if(row['BBSID'] in wifi_BBSID_list):\n",
    "            index_BBSID = wifi_BBSID_list.index('row['BBSID']')\n",
    "            wifi[index_BBSID] = row[]\n",
    "            wifi_BBSID_list.append(row[' Signal'])\n",
    "print (wifi_BBSID_list)\n",
    "print (time)"
   ]
  }
 ],
 "metadata": {
  "anaconda-cloud": {},
  "kernelspec": {
   "display_name": "Python [conda root]",
   "language": "python",
   "name": "conda-root-py"
  },
  "language_info": {
   "codemirror_mode": {
    "name": "ipython",
    "version": 3
   },
   "file_extension": ".py",
   "mimetype": "text/x-python",
   "name": "python",
   "nbconvert_exporter": "python",
   "pygments_lexer": "ipython3",
   "version": "3.5.2"
  }
 },
 "nbformat": 4,
 "nbformat_minor": 1
}
